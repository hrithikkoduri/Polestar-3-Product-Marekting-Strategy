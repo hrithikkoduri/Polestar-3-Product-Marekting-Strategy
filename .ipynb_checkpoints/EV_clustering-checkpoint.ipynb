{
 "cells": [
  {
   "cell_type": "code",
   "execution_count": 20,
   "id": "fcd56248",
   "metadata": {},
   "outputs": [],
   "source": [
    "import pandas as pd"
   ]
  },
  {
   "cell_type": "code",
   "execution_count": 13,
   "id": "8197a436",
   "metadata": {},
   "outputs": [
    {
     "name": "stdout",
     "output_type": "stream",
     "text": [
      "Collecting gower\n",
      "  Downloading gower-0.1.2-py3-none-any.whl (5.2 kB)\n",
      "Requirement already satisfied: scipy in /Library/Frameworks/Python.framework/Versions/3.7/lib/python3.7/site-packages (from gower) (1.3.1)\n",
      "Requirement already satisfied: numpy in /Library/Frameworks/Python.framework/Versions/3.7/lib/python3.7/site-packages (from gower) (1.17.3)\n",
      "Installing collected packages: gower\n",
      "Successfully installed gower-0.1.2\n",
      "Note: you may need to restart the kernel to use updated packages.\n"
     ]
    }
   ],
   "source": [
    "pip install gower"
   ]
  },
  {
   "cell_type": "code",
   "execution_count": 21,
   "id": "6b637fbc",
   "metadata": {},
   "outputs": [],
   "source": [
    "import gower"
   ]
  },
  {
   "cell_type": "code",
   "execution_count": 31,
   "id": "16f9fccf",
   "metadata": {},
   "outputs": [],
   "source": [
    "from sklearn.cluster import KMeans"
   ]
  },
  {
   "cell_type": "code",
   "execution_count": 44,
   "id": "b5b34609",
   "metadata": {},
   "outputs": [
    {
     "name": "stdout",
     "output_type": "stream",
     "text": [
      "Collecting matplotlib\n",
      "  Downloading matplotlib-3.5.3-cp37-cp37m-macosx_10_9_x86_64.whl (7.3 MB)\n",
      "\u001b[2K     \u001b[90m━━━━━━━━━━━━━━━━━━━━━━━━━━━━━━━━━━━━━━━━\u001b[0m \u001b[32m7.3/7.3 MB\u001b[0m \u001b[31m793.9 kB/s\u001b[0m eta \u001b[36m0:00:00\u001b[0m00:01\u001b[0m00:01\u001b[0m\n",
      "\u001b[?25hRequirement already satisfied: python-dateutil>=2.7 in /Library/Frameworks/Python.framework/Versions/3.7/lib/python3.7/site-packages (from matplotlib) (2.8.2)\n",
      "Collecting cycler>=0.10\n",
      "  Downloading cycler-0.11.0-py3-none-any.whl (6.4 kB)\n",
      "Collecting pillow>=6.2.0\n",
      "  Downloading Pillow-9.3.0-cp37-cp37m-macosx_10_10_x86_64.whl (3.3 MB)\n",
      "\u001b[2K     \u001b[90m━━━━━━━━━━━━━━━━━━━━━━━━━━━━━━━━━━━━━━━━\u001b[0m \u001b[32m3.3/3.3 MB\u001b[0m \u001b[31m1.2 MB/s\u001b[0m eta \u001b[36m0:00:00\u001b[0m00:01\u001b[0m00:01\u001b[0m\n",
      "\u001b[?25hCollecting kiwisolver>=1.0.1\n",
      "  Downloading kiwisolver-1.4.4-cp37-cp37m-macosx_10_9_x86_64.whl (65 kB)\n",
      "\u001b[2K     \u001b[90m━━━━━━━━━━━━━━━━━━━━━━━━━━━━━━━━━━━━━━━\u001b[0m \u001b[32m65.3/65.3 kB\u001b[0m \u001b[31m788.4 kB/s\u001b[0m eta \u001b[36m0:00:00\u001b[0ma \u001b[36m0:00:01\u001b[0m\n",
      "\u001b[?25hRequirement already satisfied: pyparsing>=2.2.1 in /Library/Frameworks/Python.framework/Versions/3.7/lib/python3.7/site-packages (from matplotlib) (3.0.9)\n",
      "Requirement already satisfied: numpy>=1.17 in /Library/Frameworks/Python.framework/Versions/3.7/lib/python3.7/site-packages (from matplotlib) (1.17.3)\n",
      "Requirement already satisfied: packaging>=20.0 in /Library/Frameworks/Python.framework/Versions/3.7/lib/python3.7/site-packages (from matplotlib) (21.3)\n",
      "Collecting fonttools>=4.22.0\n",
      "  Downloading fonttools-4.38.0-py3-none-any.whl (965 kB)\n",
      "\u001b[2K     \u001b[90m━━━━━━━━━━━━━━━━━━━━━━━━━━━━━━━━━━━━━━━\u001b[0m \u001b[32m965.4/965.4 kB\u001b[0m \u001b[31m1.3 MB/s\u001b[0m eta \u001b[36m0:00:00\u001b[0m00:01\u001b[0m00:01\u001b[0m\n",
      "\u001b[?25hRequirement already satisfied: typing-extensions in /Library/Frameworks/Python.framework/Versions/3.7/lib/python3.7/site-packages (from kiwisolver>=1.0.1->matplotlib) (4.4.0)\n",
      "Requirement already satisfied: six>=1.5 in /Library/Frameworks/Python.framework/Versions/3.7/lib/python3.7/site-packages (from python-dateutil>=2.7->matplotlib) (1.16.0)\n",
      "Installing collected packages: pillow, kiwisolver, fonttools, cycler, matplotlib\n",
      "Successfully installed cycler-0.11.0 fonttools-4.38.0 kiwisolver-1.4.4 matplotlib-3.5.3 pillow-9.3.0\n",
      "Note: you may need to restart the kernel to use updated packages.\n"
     ]
    }
   ],
   "source": [
    "pip install matplotlib"
   ]
  },
  {
   "cell_type": "code",
   "execution_count": 23,
   "id": "e3d210e6",
   "metadata": {},
   "outputs": [],
   "source": [
    "ev_data = pd.read_csv(\"EV.csv\");"
   ]
  },
  {
   "cell_type": "code",
   "execution_count": 24,
   "id": "4d6e08e6",
   "metadata": {},
   "outputs": [
    {
     "data": {
      "text/html": [
       "<div>\n",
       "<style scoped>\n",
       "    .dataframe tbody tr th:only-of-type {\n",
       "        vertical-align: middle;\n",
       "    }\n",
       "\n",
       "    .dataframe tbody tr th {\n",
       "        vertical-align: top;\n",
       "    }\n",
       "\n",
       "    .dataframe thead th {\n",
       "        text-align: right;\n",
       "    }\n",
       "</style>\n",
       "<table border=\"1\" class=\"dataframe\">\n",
       "  <thead>\n",
       "    <tr style=\"text-align: right;\">\n",
       "      <th></th>\n",
       "      <th>Brand</th>\n",
       "      <th>Model</th>\n",
       "      <th>AccelSec</th>\n",
       "      <th>TopSpeed_KmH</th>\n",
       "      <th>Range_Km</th>\n",
       "      <th>Efficiency_WhKm</th>\n",
       "      <th>FastCharge_KmH</th>\n",
       "      <th>RapidCharge</th>\n",
       "      <th>PowerTrain</th>\n",
       "      <th>PlugType</th>\n",
       "      <th>BodyStyle</th>\n",
       "      <th>Seats</th>\n",
       "      <th>Price USD</th>\n",
       "    </tr>\n",
       "  </thead>\n",
       "  <tbody>\n",
       "    <tr>\n",
       "      <th>0</th>\n",
       "      <td>Renault</td>\n",
       "      <td>Twingo ZE</td>\n",
       "      <td>12.6</td>\n",
       "      <td>135</td>\n",
       "      <td>130</td>\n",
       "      <td>164</td>\n",
       "      <td>-</td>\n",
       "      <td>No</td>\n",
       "      <td>RWD</td>\n",
       "      <td>Type 2</td>\n",
       "      <td>Hatchback</td>\n",
       "      <td>4</td>\n",
       "      <td>68250.00</td>\n",
       "    </tr>\n",
       "    <tr>\n",
       "      <th>1</th>\n",
       "      <td>SEAT</td>\n",
       "      <td>Mii Electric</td>\n",
       "      <td>12.3</td>\n",
       "      <td>130</td>\n",
       "      <td>195</td>\n",
       "      <td>166</td>\n",
       "      <td>170</td>\n",
       "      <td>Yes</td>\n",
       "      <td>FWD</td>\n",
       "      <td>Type 2 CCS</td>\n",
       "      <td>Hatchback</td>\n",
       "      <td>4</td>\n",
       "      <td>66045.00</td>\n",
       "    </tr>\n",
       "    <tr>\n",
       "      <th>2</th>\n",
       "      <td>Skoda</td>\n",
       "      <td>CITIGOe iV</td>\n",
       "      <td>12.3</td>\n",
       "      <td>130</td>\n",
       "      <td>195</td>\n",
       "      <td>166</td>\n",
       "      <td>170</td>\n",
       "      <td>Yes</td>\n",
       "      <td>FWD</td>\n",
       "      <td>Type 2 CCS</td>\n",
       "      <td>Hatchback</td>\n",
       "      <td>4</td>\n",
       "      <td>60375.00</td>\n",
       "    </tr>\n",
       "    <tr>\n",
       "      <th>3</th>\n",
       "      <td>Smart</td>\n",
       "      <td>EQ forfour</td>\n",
       "      <td>12.7</td>\n",
       "      <td>130</td>\n",
       "      <td>95</td>\n",
       "      <td>176</td>\n",
       "      <td>-</td>\n",
       "      <td>No</td>\n",
       "      <td>RWD</td>\n",
       "      <td>Type 2</td>\n",
       "      <td>Hatchback</td>\n",
       "      <td>4</td>\n",
       "      <td>79118.55</td>\n",
       "    </tr>\n",
       "    <tr>\n",
       "      <th>4</th>\n",
       "      <td>Smart</td>\n",
       "      <td>EQ fortwo coupe</td>\n",
       "      <td>11.6</td>\n",
       "      <td>130</td>\n",
       "      <td>100</td>\n",
       "      <td>167</td>\n",
       "      <td>-</td>\n",
       "      <td>No</td>\n",
       "      <td>RWD</td>\n",
       "      <td>Type 2</td>\n",
       "      <td>Hatchback</td>\n",
       "      <td>2</td>\n",
       "      <td>67200.00</td>\n",
       "    </tr>\n",
       "  </tbody>\n",
       "</table>\n",
       "</div>"
      ],
      "text/plain": [
       "      Brand            Model AccelSec  TopSpeed_KmH  Range_Km  \\\n",
       "0  Renault         Twingo ZE     12.6           135       130   \n",
       "1     SEAT     Mii Electric      12.3           130       195   \n",
       "2    Skoda       CITIGOe iV      12.3           130       195   \n",
       "3    Smart       EQ forfour      12.7           130        95   \n",
       "4    Smart   EQ fortwo coupe     11.6           130       100   \n",
       "\n",
       "   Efficiency_WhKm FastCharge_KmH RapidCharge PowerTrain    PlugType  \\\n",
       "0              164              -          No        RWD      Type 2   \n",
       "1              166            170         Yes        FWD  Type 2 CCS   \n",
       "2              166            170         Yes        FWD  Type 2 CCS   \n",
       "3              176              -          No        RWD      Type 2   \n",
       "4              167              -          No        RWD      Type 2   \n",
       "\n",
       "   BodyStyle  Seats  Price USD  \n",
       "0  Hatchback      4   68250.00  \n",
       "1  Hatchback      4   66045.00  \n",
       "2  Hatchback      4   60375.00  \n",
       "3  Hatchback      4   79118.55  \n",
       "4  Hatchback      2   67200.00  "
      ]
     },
     "execution_count": 24,
     "metadata": {},
     "output_type": "execute_result"
    }
   ],
   "source": [
    "ev_data.head()"
   ]
  },
  {
   "cell_type": "code",
   "execution_count": 25,
   "id": "69b742cf",
   "metadata": {},
   "outputs": [],
   "source": [
    "distance_matrix = gower.gower_matrix(ev_data)"
   ]
  },
  {
   "cell_type": "code",
   "execution_count": 26,
   "id": "2b4ebb75",
   "metadata": {
    "scrolled": true
   },
   "outputs": [
    {
     "data": {
      "text/plain": [
       "array([[0.        , 0.55062145, 0.5527531 , ..., 0.8159402 , 0.77234554,\n",
       "        0.68421173],\n",
       "       [0.55062145, 0.        , 0.15597774, ..., 0.6571662 , 0.61357147,\n",
       "        0.6023607 ],\n",
       "       [0.5527531 , 0.15597774, 0.        , ..., 0.65929776, 0.61570305,\n",
       "        0.6044923 ],\n",
       "       ...,\n",
       "       [0.8159402 , 0.6571662 , 0.65929776, ..., 0.        , 0.2061251 ,\n",
       "        0.38090202],\n",
       "       [0.77234554, 0.61357147, 0.61570305, ..., 0.2061251 , 0.        ,\n",
       "        0.3286231 ],\n",
       "       [0.68421173, 0.6023607 , 0.6044923 , ..., 0.38090202, 0.3286231 ,\n",
       "        0.        ]], dtype=float32)"
      ]
     },
     "execution_count": 26,
     "metadata": {},
     "output_type": "execute_result"
    }
   ],
   "source": [
    "distance_matrix"
   ]
  },
  {
   "cell_type": "code",
   "execution_count": 38,
   "id": "94bdc711",
   "metadata": {},
   "outputs": [],
   "source": [
    "model = KMeans(n_clusters = 7)"
   ]
  },
  {
   "cell_type": "code",
   "execution_count": 39,
   "id": "47668c1d",
   "metadata": {},
   "outputs": [],
   "source": [
    "labels = model.fit_predict(distance_matrix)"
   ]
  },
  {
   "cell_type": "code",
   "execution_count": 40,
   "id": "b5d4da24",
   "metadata": {},
   "outputs": [
    {
     "data": {
      "text/plain": [
       "array([2, 4, 4, 2, 2, 2, 4, 6, 6, 0, 4, 4, 6, 6, 0, 0, 0, 0, 0, 0, 4, 4,\n",
       "       4, 0, 4, 0, 4, 4, 4, 0, 0, 6, 0, 0, 0, 0, 0, 5, 4, 4, 4, 5, 4, 5,\n",
       "       5, 1, 1, 5, 5, 1, 4, 6, 4, 6, 1, 6, 6, 6, 5, 5, 5, 1, 1, 1, 5, 5,\n",
       "       1, 5, 3, 3, 3, 5, 3, 3, 5, 5, 5, 5, 5, 5, 5, 1, 5, 5, 3, 3, 3, 3,\n",
       "       3, 3, 3, 3, 3, 3, 3, 3, 5, 4, 4, 2, 3, 3, 3], dtype=int32)"
      ]
     },
     "execution_count": 40,
     "metadata": {},
     "output_type": "execute_result"
    }
   ],
   "source": [
    "labels"
   ]
  },
  {
   "cell_type": "code",
   "execution_count": 41,
   "id": "f92f4089",
   "metadata": {},
   "outputs": [],
   "source": [
    "ev_data[\"clusters\"] = labels;"
   ]
  },
  {
   "cell_type": "code",
   "execution_count": 42,
   "id": "dc4cf809",
   "metadata": {},
   "outputs": [
    {
     "data": {
      "text/html": [
       "<div>\n",
       "<style scoped>\n",
       "    .dataframe tbody tr th:only-of-type {\n",
       "        vertical-align: middle;\n",
       "    }\n",
       "\n",
       "    .dataframe tbody tr th {\n",
       "        vertical-align: top;\n",
       "    }\n",
       "\n",
       "    .dataframe thead th {\n",
       "        text-align: right;\n",
       "    }\n",
       "</style>\n",
       "<table border=\"1\" class=\"dataframe\">\n",
       "  <thead>\n",
       "    <tr style=\"text-align: right;\">\n",
       "      <th></th>\n",
       "      <th>Brand</th>\n",
       "      <th>Model</th>\n",
       "      <th>AccelSec</th>\n",
       "      <th>TopSpeed_KmH</th>\n",
       "      <th>Range_Km</th>\n",
       "      <th>Efficiency_WhKm</th>\n",
       "      <th>FastCharge_KmH</th>\n",
       "      <th>RapidCharge</th>\n",
       "      <th>PowerTrain</th>\n",
       "      <th>PlugType</th>\n",
       "      <th>BodyStyle</th>\n",
       "      <th>Seats</th>\n",
       "      <th>Price USD</th>\n",
       "      <th>clusters</th>\n",
       "    </tr>\n",
       "  </thead>\n",
       "  <tbody>\n",
       "    <tr>\n",
       "      <th>0</th>\n",
       "      <td>Renault</td>\n",
       "      <td>Twingo ZE</td>\n",
       "      <td>12.6</td>\n",
       "      <td>135</td>\n",
       "      <td>130</td>\n",
       "      <td>164</td>\n",
       "      <td>-</td>\n",
       "      <td>No</td>\n",
       "      <td>RWD</td>\n",
       "      <td>Type 2</td>\n",
       "      <td>Hatchback</td>\n",
       "      <td>4</td>\n",
       "      <td>68250.00</td>\n",
       "      <td>2</td>\n",
       "    </tr>\n",
       "    <tr>\n",
       "      <th>1</th>\n",
       "      <td>SEAT</td>\n",
       "      <td>Mii Electric</td>\n",
       "      <td>12.3</td>\n",
       "      <td>130</td>\n",
       "      <td>195</td>\n",
       "      <td>166</td>\n",
       "      <td>170</td>\n",
       "      <td>Yes</td>\n",
       "      <td>FWD</td>\n",
       "      <td>Type 2 CCS</td>\n",
       "      <td>Hatchback</td>\n",
       "      <td>4</td>\n",
       "      <td>66045.00</td>\n",
       "      <td>4</td>\n",
       "    </tr>\n",
       "    <tr>\n",
       "      <th>2</th>\n",
       "      <td>Skoda</td>\n",
       "      <td>CITIGOe iV</td>\n",
       "      <td>12.3</td>\n",
       "      <td>130</td>\n",
       "      <td>195</td>\n",
       "      <td>166</td>\n",
       "      <td>170</td>\n",
       "      <td>Yes</td>\n",
       "      <td>FWD</td>\n",
       "      <td>Type 2 CCS</td>\n",
       "      <td>Hatchback</td>\n",
       "      <td>4</td>\n",
       "      <td>60375.00</td>\n",
       "      <td>4</td>\n",
       "    </tr>\n",
       "    <tr>\n",
       "      <th>3</th>\n",
       "      <td>Smart</td>\n",
       "      <td>EQ forfour</td>\n",
       "      <td>12.7</td>\n",
       "      <td>130</td>\n",
       "      <td>95</td>\n",
       "      <td>176</td>\n",
       "      <td>-</td>\n",
       "      <td>No</td>\n",
       "      <td>RWD</td>\n",
       "      <td>Type 2</td>\n",
       "      <td>Hatchback</td>\n",
       "      <td>4</td>\n",
       "      <td>79118.55</td>\n",
       "      <td>2</td>\n",
       "    </tr>\n",
       "    <tr>\n",
       "      <th>4</th>\n",
       "      <td>Smart</td>\n",
       "      <td>EQ fortwo coupe</td>\n",
       "      <td>11.6</td>\n",
       "      <td>130</td>\n",
       "      <td>100</td>\n",
       "      <td>167</td>\n",
       "      <td>-</td>\n",
       "      <td>No</td>\n",
       "      <td>RWD</td>\n",
       "      <td>Type 2</td>\n",
       "      <td>Hatchback</td>\n",
       "      <td>2</td>\n",
       "      <td>67200.00</td>\n",
       "      <td>2</td>\n",
       "    </tr>\n",
       "  </tbody>\n",
       "</table>\n",
       "</div>"
      ],
      "text/plain": [
       "      Brand            Model AccelSec  TopSpeed_KmH  Range_Km  \\\n",
       "0  Renault         Twingo ZE     12.6           135       130   \n",
       "1     SEAT     Mii Electric      12.3           130       195   \n",
       "2    Skoda       CITIGOe iV      12.3           130       195   \n",
       "3    Smart       EQ forfour      12.7           130        95   \n",
       "4    Smart   EQ fortwo coupe     11.6           130       100   \n",
       "\n",
       "   Efficiency_WhKm FastCharge_KmH RapidCharge PowerTrain    PlugType  \\\n",
       "0              164              -          No        RWD      Type 2   \n",
       "1              166            170         Yes        FWD  Type 2 CCS   \n",
       "2              166            170         Yes        FWD  Type 2 CCS   \n",
       "3              176              -          No        RWD      Type 2   \n",
       "4              167              -          No        RWD      Type 2   \n",
       "\n",
       "   BodyStyle  Seats  Price USD  clusters  \n",
       "0  Hatchback      4   68250.00         2  \n",
       "1  Hatchback      4   66045.00         4  \n",
       "2  Hatchback      4   60375.00         4  \n",
       "3  Hatchback      4   79118.55         2  \n",
       "4  Hatchback      2   67200.00         2  "
      ]
     },
     "execution_count": 42,
     "metadata": {},
     "output_type": "execute_result"
    }
   ],
   "source": [
    "ev_data.head()"
   ]
  },
  {
   "cell_type": "code",
   "execution_count": null,
   "id": "7fd1b99c",
   "metadata": {},
   "outputs": [],
   "source": []
  }
 ],
 "metadata": {
  "kernelspec": {
   "display_name": "Python 3 (ipykernel)",
   "language": "python",
   "name": "python3"
  },
  "language_info": {
   "codemirror_mode": {
    "name": "ipython",
    "version": 3
   },
   "file_extension": ".py",
   "mimetype": "text/x-python",
   "name": "python",
   "nbconvert_exporter": "python",
   "pygments_lexer": "ipython3",
   "version": "3.7.1"
  }
 },
 "nbformat": 4,
 "nbformat_minor": 5
}
